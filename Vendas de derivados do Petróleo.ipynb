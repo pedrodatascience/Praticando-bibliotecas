{
 "cells": [
  {
   "cell_type": "markdown",
   "id": "c45f3236",
   "metadata": {},
   "source": [
    "# Criação de Gráficos de vendas da Gasolina Comum, Querosene de Aviação e Gás de Cozinha entre o ano de 2011 e 2020."
   ]
  },
  {
   "cell_type": "code",
   "execution_count": 85,
   "id": "36e679ef",
   "metadata": {},
   "outputs": [],
   "source": [
    "import pandas as pd"
   ]
  },
  {
   "cell_type": "code",
   "execution_count": 86,
   "id": "bc7fd8a8",
   "metadata": {},
   "outputs": [],
   "source": [
    "tabela = pd.read_csv(\"anuario-2021-dados_abertos-tabela3-2.csv\")"
   ]
  },
  {
   "cell_type": "code",
   "execution_count": 87,
   "id": "8086cc73",
   "metadata": {},
   "outputs": [
    {
     "data": {
      "text/html": [
       "<div>\n",
       "<style scoped>\n",
       "    .dataframe tbody tr th:only-of-type {\n",
       "        vertical-align: middle;\n",
       "    }\n",
       "\n",
       "    .dataframe tbody tr th {\n",
       "        vertical-align: top;\n",
       "    }\n",
       "\n",
       "    .dataframe thead th {\n",
       "        text-align: right;\n",
       "    }\n",
       "</style>\n",
       "<table border=\"1\" class=\"dataframe\">\n",
       "  <thead>\n",
       "    <tr style=\"text-align: right;\">\n",
       "      <th></th>\n",
       "      <th>TIPO DE DERIVADO DE PETROLEO</th>\n",
       "      <th>ANO</th>\n",
       "      <th>VENDAS EM MIL M3</th>\n",
       "      <th>Unnamed: 3</th>\n",
       "    </tr>\n",
       "  </thead>\n",
       "  <tbody>\n",
       "    <tr>\n",
       "      <th>0</th>\n",
       "      <td>QAV</td>\n",
       "      <td>2011</td>\n",
       "      <td>6955</td>\n",
       "      <td>NaN</td>\n",
       "    </tr>\n",
       "    <tr>\n",
       "      <th>1</th>\n",
       "      <td>GLP</td>\n",
       "      <td>2011</td>\n",
       "      <td>12868</td>\n",
       "      <td>NaN</td>\n",
       "    </tr>\n",
       "    <tr>\n",
       "      <th>2</th>\n",
       "      <td>Gasolina de aviação</td>\n",
       "      <td>2011</td>\n",
       "      <td>70</td>\n",
       "      <td>NaN</td>\n",
       "    </tr>\n",
       "    <tr>\n",
       "      <th>3</th>\n",
       "      <td>Querosene Iluminante</td>\n",
       "      <td>2011</td>\n",
       "      <td>14</td>\n",
       "      <td>NaN</td>\n",
       "    </tr>\n",
       "    <tr>\n",
       "      <th>4</th>\n",
       "      <td>Óleo diesel</td>\n",
       "      <td>2011</td>\n",
       "      <td>52264</td>\n",
       "      <td>NaN</td>\n",
       "    </tr>\n",
       "    <tr>\n",
       "      <th>...</th>\n",
       "      <td>...</td>\n",
       "      <td>...</td>\n",
       "      <td>...</td>\n",
       "      <td>...</td>\n",
       "    </tr>\n",
       "    <tr>\n",
       "      <th>65</th>\n",
       "      <td>Gasolina de aviação</td>\n",
       "      <td>2020</td>\n",
       "      <td>38</td>\n",
       "      <td>998.0</td>\n",
       "    </tr>\n",
       "    <tr>\n",
       "      <th>66</th>\n",
       "      <td>Óleo combustível</td>\n",
       "      <td>2020</td>\n",
       "      <td>2019</td>\n",
       "      <td>188.0</td>\n",
       "    </tr>\n",
       "    <tr>\n",
       "      <th>67</th>\n",
       "      <td>QAV</td>\n",
       "      <td>2020</td>\n",
       "      <td>3546</td>\n",
       "      <td>72.0</td>\n",
       "    </tr>\n",
       "    <tr>\n",
       "      <th>68</th>\n",
       "      <td>Gasolina C</td>\n",
       "      <td>2020</td>\n",
       "      <td>35823</td>\n",
       "      <td>614.0</td>\n",
       "    </tr>\n",
       "    <tr>\n",
       "      <th>69</th>\n",
       "      <td>GLP</td>\n",
       "      <td>2020</td>\n",
       "      <td>13606</td>\n",
       "      <td>798.0</td>\n",
       "    </tr>\n",
       "  </tbody>\n",
       "</table>\n",
       "<p>70 rows × 4 columns</p>\n",
       "</div>"
      ],
      "text/plain": [
       "   TIPO DE DERIVADO DE PETROLEO   ANO  VENDAS EM MIL M3  Unnamed: 3\n",
       "0                           QAV  2011              6955         NaN\n",
       "1                          GLP   2011             12868         NaN\n",
       "2           Gasolina de aviação  2011                70         NaN\n",
       "3          Querosene Iluminante  2011                14         NaN\n",
       "4                  Óleo diesel   2011             52264         NaN\n",
       "..                          ...   ...               ...         ...\n",
       "65          Gasolina de aviação  2020                38       998.0\n",
       "66            Óleo combustível   2020              2019       188.0\n",
       "67                          QAV  2020              3546        72.0\n",
       "68                  Gasolina C   2020             35823       614.0\n",
       "69                         GLP   2020             13606       798.0\n",
       "\n",
       "[70 rows x 4 columns]"
      ]
     },
     "metadata": {},
     "output_type": "display_data"
    }
   ],
   "source": [
    "display(tabela)"
   ]
  },
  {
   "cell_type": "code",
   "execution_count": 88,
   "id": "ca764992",
   "metadata": {},
   "outputs": [
    {
     "name": "stdout",
     "output_type": "stream",
     "text": [
      "<class 'pandas.core.frame.DataFrame'>\n",
      "RangeIndex: 70 entries, 0 to 69\n",
      "Data columns (total 4 columns):\n",
      " #   Column                        Non-Null Count  Dtype  \n",
      "---  ------                        --------------  -----  \n",
      " 0   TIPO DE DERIVADO DE PETROLEO  70 non-null     object \n",
      " 1   ANO                           70 non-null     int64  \n",
      " 2   VENDAS EM MIL M3              70 non-null     int64  \n",
      " 3   Unnamed: 3                    63 non-null     float64\n",
      "dtypes: float64(1), int64(2), object(1)\n",
      "memory usage: 2.3+ KB\n"
     ]
    }
   ],
   "source": [
    "tabela.info()"
   ]
  },
  {
   "cell_type": "code",
   "execution_count": 89,
   "id": "8293b50e",
   "metadata": {},
   "outputs": [],
   "source": [
    "tabela = tabela.drop(columns = 'Unnamed: 3')"
   ]
  },
  {
   "cell_type": "code",
   "execution_count": 90,
   "id": "88481023",
   "metadata": {
    "scrolled": true
   },
   "outputs": [
    {
     "data": {
      "text/html": [
       "<div>\n",
       "<style scoped>\n",
       "    .dataframe tbody tr th:only-of-type {\n",
       "        vertical-align: middle;\n",
       "    }\n",
       "\n",
       "    .dataframe tbody tr th {\n",
       "        vertical-align: top;\n",
       "    }\n",
       "\n",
       "    .dataframe thead th {\n",
       "        text-align: right;\n",
       "    }\n",
       "</style>\n",
       "<table border=\"1\" class=\"dataframe\">\n",
       "  <thead>\n",
       "    <tr style=\"text-align: right;\">\n",
       "      <th></th>\n",
       "      <th>TIPO DE DERIVADO DE PETROLEO</th>\n",
       "      <th>ANO</th>\n",
       "      <th>VENDAS EM MIL M3</th>\n",
       "    </tr>\n",
       "  </thead>\n",
       "  <tbody>\n",
       "    <tr>\n",
       "      <th>0</th>\n",
       "      <td>QAV</td>\n",
       "      <td>2011</td>\n",
       "      <td>6955</td>\n",
       "    </tr>\n",
       "    <tr>\n",
       "      <th>1</th>\n",
       "      <td>GLP</td>\n",
       "      <td>2011</td>\n",
       "      <td>12868</td>\n",
       "    </tr>\n",
       "    <tr>\n",
       "      <th>2</th>\n",
       "      <td>Gasolina de aviação</td>\n",
       "      <td>2011</td>\n",
       "      <td>70</td>\n",
       "    </tr>\n",
       "    <tr>\n",
       "      <th>3</th>\n",
       "      <td>Querosene Iluminante</td>\n",
       "      <td>2011</td>\n",
       "      <td>14</td>\n",
       "    </tr>\n",
       "    <tr>\n",
       "      <th>4</th>\n",
       "      <td>Óleo diesel</td>\n",
       "      <td>2011</td>\n",
       "      <td>52264</td>\n",
       "    </tr>\n",
       "    <tr>\n",
       "      <th>...</th>\n",
       "      <td>...</td>\n",
       "      <td>...</td>\n",
       "      <td>...</td>\n",
       "    </tr>\n",
       "    <tr>\n",
       "      <th>65</th>\n",
       "      <td>Gasolina de aviação</td>\n",
       "      <td>2020</td>\n",
       "      <td>38</td>\n",
       "    </tr>\n",
       "    <tr>\n",
       "      <th>66</th>\n",
       "      <td>Óleo combustível</td>\n",
       "      <td>2020</td>\n",
       "      <td>2019</td>\n",
       "    </tr>\n",
       "    <tr>\n",
       "      <th>67</th>\n",
       "      <td>QAV</td>\n",
       "      <td>2020</td>\n",
       "      <td>3546</td>\n",
       "    </tr>\n",
       "    <tr>\n",
       "      <th>68</th>\n",
       "      <td>Gasolina C</td>\n",
       "      <td>2020</td>\n",
       "      <td>35823</td>\n",
       "    </tr>\n",
       "    <tr>\n",
       "      <th>69</th>\n",
       "      <td>GLP</td>\n",
       "      <td>2020</td>\n",
       "      <td>13606</td>\n",
       "    </tr>\n",
       "  </tbody>\n",
       "</table>\n",
       "<p>70 rows × 3 columns</p>\n",
       "</div>"
      ],
      "text/plain": [
       "   TIPO DE DERIVADO DE PETROLEO   ANO  VENDAS EM MIL M3\n",
       "0                           QAV  2011              6955\n",
       "1                          GLP   2011             12868\n",
       "2           Gasolina de aviação  2011                70\n",
       "3          Querosene Iluminante  2011                14\n",
       "4                  Óleo diesel   2011             52264\n",
       "..                          ...   ...               ...\n",
       "65          Gasolina de aviação  2020                38\n",
       "66            Óleo combustível   2020              2019\n",
       "67                          QAV  2020              3546\n",
       "68                  Gasolina C   2020             35823\n",
       "69                         GLP   2020             13606\n",
       "\n",
       "[70 rows x 3 columns]"
      ]
     },
     "metadata": {},
     "output_type": "display_data"
    }
   ],
   "source": [
    "display(tabela)"
   ]
  },
  {
   "cell_type": "code",
   "execution_count": 99,
   "id": "d8469234",
   "metadata": {},
   "outputs": [],
   "source": [
    "#Foi necessária a remoção de alguns caracteres em branco de alguns nome, pois era apresentado como \"  Gasolina C  \" e não \"Gasolina C\", \n",
    "#o quê dificultaria a realização de filtros"
   ]
  },
  {
   "cell_type": "code",
   "execution_count": 92,
   "id": "77428ab4",
   "metadata": {},
   "outputs": [],
   "source": [
    "tabela[\"TIPO DE DERIVADO DE PETROLEO\"] = [x.strip() for x in tabela[\"TIPO DE DERIVADO DE PETROLEO\"]]"
   ]
  },
  {
   "cell_type": "code",
   "execution_count": 93,
   "id": "1d7c9260",
   "metadata": {},
   "outputs": [],
   "source": [
    "gasolina_c = tabela[tabela[\"TIPO DE DERIVADO DE PETROLEO\"] == \"Gasolina C\"]"
   ]
  },
  {
   "cell_type": "code",
   "execution_count": 94,
   "id": "94a25060",
   "metadata": {},
   "outputs": [
    {
     "data": {
      "text/html": [
       "<div>\n",
       "<style scoped>\n",
       "    .dataframe tbody tr th:only-of-type {\n",
       "        vertical-align: middle;\n",
       "    }\n",
       "\n",
       "    .dataframe tbody tr th {\n",
       "        vertical-align: top;\n",
       "    }\n",
       "\n",
       "    .dataframe thead th {\n",
       "        text-align: right;\n",
       "    }\n",
       "</style>\n",
       "<table border=\"1\" class=\"dataframe\">\n",
       "  <thead>\n",
       "    <tr style=\"text-align: right;\">\n",
       "      <th></th>\n",
       "      <th>TIPO DE DERIVADO DE PETROLEO</th>\n",
       "      <th>ANO</th>\n",
       "      <th>VENDAS EM MIL M3</th>\n",
       "    </tr>\n",
       "  </thead>\n",
       "  <tbody>\n",
       "    <tr>\n",
       "      <th>6</th>\n",
       "      <td>Gasolina C</td>\n",
       "      <td>2011</td>\n",
       "      <td>35491</td>\n",
       "    </tr>\n",
       "    <tr>\n",
       "      <th>13</th>\n",
       "      <td>Gasolina C</td>\n",
       "      <td>2012</td>\n",
       "      <td>39697</td>\n",
       "    </tr>\n",
       "    <tr>\n",
       "      <th>17</th>\n",
       "      <td>Gasolina C</td>\n",
       "      <td>2013</td>\n",
       "      <td>41426</td>\n",
       "    </tr>\n",
       "    <tr>\n",
       "      <th>21</th>\n",
       "      <td>Gasolina C</td>\n",
       "      <td>2014</td>\n",
       "      <td>44364</td>\n",
       "    </tr>\n",
       "    <tr>\n",
       "      <th>32</th>\n",
       "      <td>Gasolina C</td>\n",
       "      <td>2015</td>\n",
       "      <td>41137</td>\n",
       "    </tr>\n",
       "    <tr>\n",
       "      <th>40</th>\n",
       "      <td>Gasolina C</td>\n",
       "      <td>2016</td>\n",
       "      <td>43019</td>\n",
       "    </tr>\n",
       "    <tr>\n",
       "      <th>43</th>\n",
       "      <td>Gasolina C</td>\n",
       "      <td>2017</td>\n",
       "      <td>44149</td>\n",
       "    </tr>\n",
       "    <tr>\n",
       "      <th>50</th>\n",
       "      <td>Gasolina C</td>\n",
       "      <td>2018</td>\n",
       "      <td>38351</td>\n",
       "    </tr>\n",
       "    <tr>\n",
       "      <th>57</th>\n",
       "      <td>Gasolina C</td>\n",
       "      <td>2019</td>\n",
       "      <td>38165</td>\n",
       "    </tr>\n",
       "    <tr>\n",
       "      <th>68</th>\n",
       "      <td>Gasolina C</td>\n",
       "      <td>2020</td>\n",
       "      <td>35823</td>\n",
       "    </tr>\n",
       "  </tbody>\n",
       "</table>\n",
       "</div>"
      ],
      "text/plain": [
       "   TIPO DE DERIVADO DE PETROLEO   ANO  VENDAS EM MIL M3\n",
       "6                    Gasolina C  2011             35491\n",
       "13                   Gasolina C  2012             39697\n",
       "17                   Gasolina C  2013             41426\n",
       "21                   Gasolina C  2014             44364\n",
       "32                   Gasolina C  2015             41137\n",
       "40                   Gasolina C  2016             43019\n",
       "43                   Gasolina C  2017             44149\n",
       "50                   Gasolina C  2018             38351\n",
       "57                   Gasolina C  2019             38165\n",
       "68                   Gasolina C  2020             35823"
      ]
     },
     "metadata": {},
     "output_type": "display_data"
    }
   ],
   "source": [
    "display(gasolina_c)"
   ]
  },
  {
   "cell_type": "code",
   "execution_count": 95,
   "id": "9c26ef39",
   "metadata": {},
   "outputs": [],
   "source": [
    "import matplotlib.pyplot as plt"
   ]
  },
  {
   "cell_type": "code",
   "execution_count": 96,
   "id": "d848f58a",
   "metadata": {},
   "outputs": [
    {
     "data": {
      "text/plain": [
       "<AxesSubplot:title={'center':'Vendas QAV 2011 - 2020'}, xlabel='ANO'>"
      ]
     },
     "execution_count": 96,
     "metadata": {},
     "output_type": "execute_result"
    },
    {
     "data": {
      "image/png": "[encoded data removed]",
      "text/plain": [
       "<Figure size 1080x576 with 1 Axes>"
      ]
     },
     "metadata": {
      "needs_background": "light"
     },
     "output_type": "display_data"
    }
   ],
   "source": [
    "qav.plot( x=\"ANO\", y = \"VENDAS EM MIL M3\", kind = \"bar\", title = \"Vendas QAV 2011 - 2020\", figsize = (15,8))"
   ]
  },
  {
   "cell_type": "code",
   "execution_count": 97,
   "id": "94251f7b",
   "metadata": {},
   "outputs": [
    {
     "data": {
      "text/plain": [
       "<AxesSubplot:title={'center':'Vendas Gasolina tipo C 2011 - 2020'}, xlabel='ANO'>"
      ]
     },
     "execution_count": 97,
     "metadata": {},
     "output_type": "execute_result"
    },
    {
     "data": {
      "image/png": "[encoded data removed]",
      "text/plain": [
       "<Figure size 1080x576 with 1 Axes>"
      ]
     },
     "metadata": {
      "needs_background": "light"
     },
     "output_type": "display_data"
    }
   ],
   "source": [
    "gasolina_c.plot( x=\"ANO\", y = \"VENDAS EM MIL M3\", kind = \"bar\", title = \"Vendas Gasolina tipo C 2011 - 2020\", figsize = (15,8))"
   ]
  },
  {
   "cell_type": "code",
   "execution_count": 100,
   "id": "ae73ace4",
   "metadata": {},
   "outputs": [],
   "source": [
    "glp = tabela[tabela[\"TIPO DE DERIVADO DE PETROLEO\"] == \"GLP\"]"
   ]
  },
  {
   "cell_type": "code",
   "execution_count": 102,
   "id": "848c2c41",
   "metadata": {},
   "outputs": [
    {
     "data": {
      "text/plain": [
       "<AxesSubplot:title={'center':\"Vendas 'Gás de Cozinha' 2011 - 2020\"}, xlabel='ANO'>"
      ]
     },
     "execution_count": 102,
     "metadata": {},
     "output_type": "execute_result"
    },
    {
     "data": {
      "image/png": "[encoded data removed]",
      "text/plain": [
       "<Figure size 1080x576 with 1 Axes>"
      ]
     },
     "metadata": {
      "needs_background": "light"
     },
     "output_type": "display_data"
    }
   ],
   "source": [
    "glp.plot( x=\"ANO\", y = \"VENDAS EM MIL M3\", kind = \"bar\", title = \"Vendas 'Gás de Cozinha' 2011 - 2020\", figsize = (15,8))"
   ]
  }
 ],
 "metadata": {
  "kernelspec": {
   "display_name": "Python 3",
   "language": "python",
   "name": "python3"
  },
  "language_info": {
   "codemirror_mode": {
    "name": "ipython",
    "version": 3
   },
   "file_extension": ".py",
   "mimetype": "text/x-python",
   "name": "python",
   "nbconvert_exporter": "python",
   "pygments_lexer": "ipython3",
   "version": "3.8.8"
  }
 },
 "nbformat": 4,
 "nbformat_minor": 5
}
