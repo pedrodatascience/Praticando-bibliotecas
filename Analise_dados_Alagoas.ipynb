{
 "cells": [
  {
   "cell_type": "code",
   "execution_count": 1,
   "id": "c2641bb4",
   "metadata": {},
   "outputs": [],
   "source": [
    "import pandas as pd"
   ]
  },
  {
   "cell_type": "code",
   "execution_count": 2,
   "id": "895ef8c0",
   "metadata": {},
   "outputs": [],
   "source": [
    "tabela = pd.read_excel('C:/Users/Pedro Henrique/Documents/python_pratica/Revisão/turismo.xls')"
   ]
  },
  {
   "cell_type": "code",
   "execution_count": 3,
   "id": "2eafaa3f",
   "metadata": {},
   "outputs": [
    {
     "data": {
      "text/html": [
       "<div>\n",
       "<style scoped>\n",
       "    .dataframe tbody tr th:only-of-type {\n",
       "        vertical-align: middle;\n",
       "    }\n",
       "\n",
       "    .dataframe tbody tr th {\n",
       "        vertical-align: top;\n",
       "    }\n",
       "\n",
       "    .dataframe thead th {\n",
       "        text-align: right;\n",
       "    }\n",
       "</style>\n",
       "<table border=\"1\" class=\"dataframe\">\n",
       "  <thead>\n",
       "    <tr style=\"text-align: right;\">\n",
       "      <th></th>\n",
       "      <th>Código</th>\n",
       "      <th>Município</th>\n",
       "      <th>Hotel - Quantidade 2013</th>\n",
       "      <th>Hotel - Total de UHs 2013</th>\n",
       "      <th>Hóteis - Total de Leitos 2013</th>\n",
       "      <th>Flat / Apart Hotel - Quantidade 2013</th>\n",
       "      <th>Flat / Apart Hotel - Total de UHs 2013</th>\n",
       "      <th>Flat / Apart Hotel - Total de Leitos 2013</th>\n",
       "      <th>Hotel Fazenda - Quantidade 2013</th>\n",
       "      <th>Hotel Fazenda - Total de UHs 2013</th>\n",
       "      <th>...</th>\n",
       "      <th>Albergue/Hostel - Total de Leitos 2021</th>\n",
       "      <th>Cama e Café -  Quantidade 2021</th>\n",
       "      <th>Cama e Café - Total de UHs 2021</th>\n",
       "      <th>Cama e Café - Total de Leitos 2021</th>\n",
       "      <th>Hotel Histórico -  Quantidade 2021</th>\n",
       "      <th>Hotel Histórico - Total de UHs 2021</th>\n",
       "      <th>Hotel Histórico - Total de Leitos 2021</th>\n",
       "      <th>Outros -  Quantidade 2021</th>\n",
       "      <th>Outros - Total de UHs 2021</th>\n",
       "      <th>Outros - Total de Leitos 2021</th>\n",
       "    </tr>\n",
       "  </thead>\n",
       "  <tbody>\n",
       "    <tr>\n",
       "      <th>0</th>\n",
       "      <td>2700102</td>\n",
       "      <td>Água Branca</td>\n",
       "      <td>0</td>\n",
       "      <td>0</td>\n",
       "      <td>0</td>\n",
       "      <td>0</td>\n",
       "      <td>0</td>\n",
       "      <td>0</td>\n",
       "      <td>0</td>\n",
       "      <td>0</td>\n",
       "      <td>...</td>\n",
       "      <td>0</td>\n",
       "      <td>0</td>\n",
       "      <td>0</td>\n",
       "      <td>0</td>\n",
       "      <td>0</td>\n",
       "      <td>0</td>\n",
       "      <td>0</td>\n",
       "      <td>0</td>\n",
       "      <td>0</td>\n",
       "      <td>0</td>\n",
       "    </tr>\n",
       "    <tr>\n",
       "      <th>1</th>\n",
       "      <td>2700201</td>\n",
       "      <td>Anadia</td>\n",
       "      <td>0</td>\n",
       "      <td>0</td>\n",
       "      <td>0</td>\n",
       "      <td>0</td>\n",
       "      <td>0</td>\n",
       "      <td>0</td>\n",
       "      <td>0</td>\n",
       "      <td>0</td>\n",
       "      <td>...</td>\n",
       "      <td>0</td>\n",
       "      <td>0</td>\n",
       "      <td>0</td>\n",
       "      <td>0</td>\n",
       "      <td>0</td>\n",
       "      <td>0</td>\n",
       "      <td>0</td>\n",
       "      <td>0</td>\n",
       "      <td>0</td>\n",
       "      <td>0</td>\n",
       "    </tr>\n",
       "    <tr>\n",
       "      <th>2</th>\n",
       "      <td>2700300</td>\n",
       "      <td>Arapiraca</td>\n",
       "      <td>7</td>\n",
       "      <td>375</td>\n",
       "      <td>686</td>\n",
       "      <td>0</td>\n",
       "      <td>0</td>\n",
       "      <td>0</td>\n",
       "      <td>0</td>\n",
       "      <td>0</td>\n",
       "      <td>...</td>\n",
       "      <td>25</td>\n",
       "      <td>0</td>\n",
       "      <td>0</td>\n",
       "      <td>0</td>\n",
       "      <td>0</td>\n",
       "      <td>0</td>\n",
       "      <td>0</td>\n",
       "      <td>0</td>\n",
       "      <td>0</td>\n",
       "      <td>0</td>\n",
       "    </tr>\n",
       "    <tr>\n",
       "      <th>3</th>\n",
       "      <td>2700409</td>\n",
       "      <td>Atalaia</td>\n",
       "      <td>0</td>\n",
       "      <td>0</td>\n",
       "      <td>0</td>\n",
       "      <td>0</td>\n",
       "      <td>0</td>\n",
       "      <td>0</td>\n",
       "      <td>0</td>\n",
       "      <td>0</td>\n",
       "      <td>...</td>\n",
       "      <td>0</td>\n",
       "      <td>0</td>\n",
       "      <td>0</td>\n",
       "      <td>0</td>\n",
       "      <td>0</td>\n",
       "      <td>0</td>\n",
       "      <td>0</td>\n",
       "      <td>0</td>\n",
       "      <td>0</td>\n",
       "      <td>0</td>\n",
       "    </tr>\n",
       "    <tr>\n",
       "      <th>4</th>\n",
       "      <td>2700508</td>\n",
       "      <td>Barra de Santo Antônio</td>\n",
       "      <td>0</td>\n",
       "      <td>0</td>\n",
       "      <td>0</td>\n",
       "      <td>0</td>\n",
       "      <td>0</td>\n",
       "      <td>0</td>\n",
       "      <td>0</td>\n",
       "      <td>0</td>\n",
       "      <td>...</td>\n",
       "      <td>0</td>\n",
       "      <td>0</td>\n",
       "      <td>0</td>\n",
       "      <td>0</td>\n",
       "      <td>0</td>\n",
       "      <td>0</td>\n",
       "      <td>0</td>\n",
       "      <td>0</td>\n",
       "      <td>0</td>\n",
       "      <td>0</td>\n",
       "    </tr>\n",
       "    <tr>\n",
       "      <th>...</th>\n",
       "      <td>...</td>\n",
       "      <td>...</td>\n",
       "      <td>...</td>\n",
       "      <td>...</td>\n",
       "      <td>...</td>\n",
       "      <td>...</td>\n",
       "      <td>...</td>\n",
       "      <td>...</td>\n",
       "      <td>...</td>\n",
       "      <td>...</td>\n",
       "      <td>...</td>\n",
       "      <td>...</td>\n",
       "      <td>...</td>\n",
       "      <td>...</td>\n",
       "      <td>...</td>\n",
       "      <td>...</td>\n",
       "      <td>...</td>\n",
       "      <td>...</td>\n",
       "      <td>...</td>\n",
       "      <td>...</td>\n",
       "      <td>...</td>\n",
       "    </tr>\n",
       "    <tr>\n",
       "      <th>97</th>\n",
       "      <td>2709103</td>\n",
       "      <td>Taquarana</td>\n",
       "      <td>0</td>\n",
       "      <td>0</td>\n",
       "      <td>0</td>\n",
       "      <td>0</td>\n",
       "      <td>0</td>\n",
       "      <td>0</td>\n",
       "      <td>0</td>\n",
       "      <td>0</td>\n",
       "      <td>...</td>\n",
       "      <td>0</td>\n",
       "      <td>0</td>\n",
       "      <td>0</td>\n",
       "      <td>0</td>\n",
       "      <td>0</td>\n",
       "      <td>0</td>\n",
       "      <td>0</td>\n",
       "      <td>0</td>\n",
       "      <td>0</td>\n",
       "      <td>0</td>\n",
       "    </tr>\n",
       "    <tr>\n",
       "      <th>98</th>\n",
       "      <td>2709152</td>\n",
       "      <td>Teotônio Vilela</td>\n",
       "      <td>0</td>\n",
       "      <td>0</td>\n",
       "      <td>0</td>\n",
       "      <td>0</td>\n",
       "      <td>0</td>\n",
       "      <td>0</td>\n",
       "      <td>0</td>\n",
       "      <td>0</td>\n",
       "      <td>...</td>\n",
       "      <td>0</td>\n",
       "      <td>0</td>\n",
       "      <td>0</td>\n",
       "      <td>0</td>\n",
       "      <td>0</td>\n",
       "      <td>0</td>\n",
       "      <td>0</td>\n",
       "      <td>0</td>\n",
       "      <td>0</td>\n",
       "      <td>0</td>\n",
       "    </tr>\n",
       "    <tr>\n",
       "      <th>99</th>\n",
       "      <td>2709202</td>\n",
       "      <td>Traipu</td>\n",
       "      <td>0</td>\n",
       "      <td>0</td>\n",
       "      <td>0</td>\n",
       "      <td>0</td>\n",
       "      <td>0</td>\n",
       "      <td>0</td>\n",
       "      <td>0</td>\n",
       "      <td>0</td>\n",
       "      <td>...</td>\n",
       "      <td>0</td>\n",
       "      <td>0</td>\n",
       "      <td>0</td>\n",
       "      <td>0</td>\n",
       "      <td>0</td>\n",
       "      <td>0</td>\n",
       "      <td>0</td>\n",
       "      <td>0</td>\n",
       "      <td>0</td>\n",
       "      <td>0</td>\n",
       "    </tr>\n",
       "    <tr>\n",
       "      <th>100</th>\n",
       "      <td>2709301</td>\n",
       "      <td>União dos Palmares</td>\n",
       "      <td>1</td>\n",
       "      <td>24</td>\n",
       "      <td>57</td>\n",
       "      <td>0</td>\n",
       "      <td>0</td>\n",
       "      <td>0</td>\n",
       "      <td>1</td>\n",
       "      <td>33</td>\n",
       "      <td>...</td>\n",
       "      <td>0</td>\n",
       "      <td>0</td>\n",
       "      <td>0</td>\n",
       "      <td>0</td>\n",
       "      <td>1</td>\n",
       "      <td>8</td>\n",
       "      <td>22</td>\n",
       "      <td>0</td>\n",
       "      <td>0</td>\n",
       "      <td>0</td>\n",
       "    </tr>\n",
       "    <tr>\n",
       "      <th>101</th>\n",
       "      <td>2709400</td>\n",
       "      <td>Viçosa</td>\n",
       "      <td>0</td>\n",
       "      <td>0</td>\n",
       "      <td>0</td>\n",
       "      <td>0</td>\n",
       "      <td>0</td>\n",
       "      <td>0</td>\n",
       "      <td>1</td>\n",
       "      <td>21</td>\n",
       "      <td>...</td>\n",
       "      <td>0</td>\n",
       "      <td>0</td>\n",
       "      <td>0</td>\n",
       "      <td>0</td>\n",
       "      <td>0</td>\n",
       "      <td>0</td>\n",
       "      <td>0</td>\n",
       "      <td>0</td>\n",
       "      <td>0</td>\n",
       "      <td>0</td>\n",
       "    </tr>\n",
       "  </tbody>\n",
       "</table>\n",
       "<p>102 rows × 197 columns</p>\n",
       "</div>"
      ],
      "text/plain": [
       "     Código                Município  Hotel - Quantidade 2013  \\\n",
       "0    2700102             Água Branca                        0   \n",
       "1    2700201                  Anadia                        0   \n",
       "2    2700300               Arapiraca                        7   \n",
       "3    2700409                 Atalaia                        0   \n",
       "4    2700508  Barra de Santo Antônio                        0   \n",
       "..       ...                     ...                      ...   \n",
       "97   2709103               Taquarana                        0   \n",
       "98   2709152         Teotônio Vilela                        0   \n",
       "99   2709202                  Traipu                        0   \n",
       "100  2709301      União dos Palmares                        1   \n",
       "101  2709400                  Viçosa                        0   \n",
       "\n",
       "     Hotel - Total de UHs 2013  Hóteis - Total de Leitos 2013  \\\n",
       "0                            0                              0   \n",
       "1                            0                              0   \n",
       "2                          375                            686   \n",
       "3                            0                              0   \n",
       "4                            0                              0   \n",
       "..                         ...                            ...   \n",
       "97                           0                              0   \n",
       "98                           0                              0   \n",
       "99                           0                              0   \n",
       "100                         24                             57   \n",
       "101                          0                              0   \n",
       "\n",
       "     Flat / Apart Hotel - Quantidade 2013  \\\n",
       "0                                       0   \n",
       "1                                       0   \n",
       "2                                       0   \n",
       "3                                       0   \n",
       "4                                       0   \n",
       "..                                    ...   \n",
       "97                                      0   \n",
       "98                                      0   \n",
       "99                                      0   \n",
       "100                                     0   \n",
       "101                                     0   \n",
       "\n",
       "     Flat / Apart Hotel - Total de UHs 2013  \\\n",
       "0                                         0   \n",
       "1                                         0   \n",
       "2                                         0   \n",
       "3                                         0   \n",
       "4                                         0   \n",
       "..                                      ...   \n",
       "97                                        0   \n",
       "98                                        0   \n",
       "99                                        0   \n",
       "100                                       0   \n",
       "101                                       0   \n",
       "\n",
       "     Flat / Apart Hotel - Total de Leitos 2013  \\\n",
       "0                                            0   \n",
       "1                                            0   \n",
       "2                                            0   \n",
       "3                                            0   \n",
       "4                                            0   \n",
       "..                                         ...   \n",
       "97                                           0   \n",
       "98                                           0   \n",
       "99                                           0   \n",
       "100                                          0   \n",
       "101                                          0   \n",
       "\n",
       "     Hotel Fazenda - Quantidade 2013  Hotel Fazenda - Total de UHs 2013  ...  \\\n",
       "0                                  0                                  0  ...   \n",
       "1                                  0                                  0  ...   \n",
       "2                                  0                                  0  ...   \n",
       "3                                  0                                  0  ...   \n",
       "4                                  0                                  0  ...   \n",
       "..                               ...                                ...  ...   \n",
       "97                                 0                                  0  ...   \n",
       "98                                 0                                  0  ...   \n",
       "99                                 0                                  0  ...   \n",
       "100                                1                                 33  ...   \n",
       "101                                1                                 21  ...   \n",
       "\n",
       "     Albergue/Hostel - Total de Leitos 2021  Cama e Café -  Quantidade 2021  \\\n",
       "0                                         0                               0   \n",
       "1                                         0                               0   \n",
       "2                                        25                               0   \n",
       "3                                         0                               0   \n",
       "4                                         0                               0   \n",
       "..                                      ...                             ...   \n",
       "97                                        0                               0   \n",
       "98                                        0                               0   \n",
       "99                                        0                               0   \n",
       "100                                       0                               0   \n",
       "101                                       0                               0   \n",
       "\n",
       "     Cama e Café - Total de UHs 2021  Cama e Café - Total de Leitos 2021  \\\n",
       "0                                  0                                   0   \n",
       "1                                  0                                   0   \n",
       "2                                  0                                   0   \n",
       "3                                  0                                   0   \n",
       "4                                  0                                   0   \n",
       "..                               ...                                 ...   \n",
       "97                                 0                                   0   \n",
       "98                                 0                                   0   \n",
       "99                                 0                                   0   \n",
       "100                                0                                   0   \n",
       "101                                0                                   0   \n",
       "\n",
       "     Hotel Histórico -  Quantidade 2021  Hotel Histórico - Total de UHs 2021  \\\n",
       "0                                     0                                    0   \n",
       "1                                     0                                    0   \n",
       "2                                     0                                    0   \n",
       "3                                     0                                    0   \n",
       "4                                     0                                    0   \n",
       "..                                  ...                                  ...   \n",
       "97                                    0                                    0   \n",
       "98                                    0                                    0   \n",
       "99                                    0                                    0   \n",
       "100                                   1                                    8   \n",
       "101                                   0                                    0   \n",
       "\n",
       "     Hotel Histórico - Total de Leitos 2021  Outros -  Quantidade 2021  \\\n",
       "0                                         0                          0   \n",
       "1                                         0                          0   \n",
       "2                                         0                          0   \n",
       "3                                         0                          0   \n",
       "4                                         0                          0   \n",
       "..                                      ...                        ...   \n",
       "97                                        0                          0   \n",
       "98                                        0                          0   \n",
       "99                                        0                          0   \n",
       "100                                      22                          0   \n",
       "101                                       0                          0   \n",
       "\n",
       "     Outros - Total de UHs 2021  Outros - Total de Leitos 2021  \n",
       "0                             0                              0  \n",
       "1                             0                              0  \n",
       "2                             0                              0  \n",
       "3                             0                              0  \n",
       "4                             0                              0  \n",
       "..                          ...                            ...  \n",
       "97                            0                              0  \n",
       "98                            0                              0  \n",
       "99                            0                              0  \n",
       "100                           0                              0  \n",
       "101                           0                              0  \n",
       "\n",
       "[102 rows x 197 columns]"
      ]
     },
     "metadata": {},
     "output_type": "display_data"
    }
   ],
   "source": [
    "display(tabela)"
   ]
  },
  {
   "cell_type": "code",
   "execution_count": 4,
   "id": "30f2473d",
   "metadata": {},
   "outputs": [
    {
     "name": "stdout",
     "output_type": "stream",
     "text": [
      "<class 'pandas.core.frame.DataFrame'>\n",
      "RangeIndex: 102 entries, 0 to 101\n",
      "Columns: 197 entries, Código  to Outros - Total de Leitos 2021\n",
      "dtypes: int64(196), object(1)\n",
      "memory usage: 157.1+ KB\n"
     ]
    }
   ],
   "source": [
    "tabela.info()"
   ]
  },
  {
   "cell_type": "code",
   "execution_count": 5,
   "id": "086275da",
   "metadata": {},
   "outputs": [
    {
     "data": {
      "text/plain": [
       "['Código ',\n",
       " 'Município',\n",
       " 'Hotel - Quantidade 2013',\n",
       " 'Hotel - Total de UHs 2013',\n",
       " 'Hóteis - Total de Leitos 2013',\n",
       " 'Flat / Apart Hotel - Quantidade 2013',\n",
       " 'Flat / Apart Hotel - Total de UHs 2013',\n",
       " 'Flat / Apart Hotel - Total de Leitos 2013',\n",
       " 'Hotel Fazenda - Quantidade 2013',\n",
       " 'Hotel Fazenda - Total de UHs 2013',\n",
       " 'Hotel Fazenda - Total de Leitos 2013',\n",
       " 'Resort - Quantidade 2013',\n",
       " 'Resort - Total de UHs 2013',\n",
       " 'Resort - Total de Leitos 2013',\n",
       " 'Pousada -  Quantidade 2013',\n",
       " 'Pousada - Total de UHs 2013',\n",
       " 'Pousada - Total de Leitos 2013',\n",
       " 'Albergue/Hostel -  Quantidade 2013',\n",
       " 'Albergue/Hostel - Total de UHs 2013',\n",
       " 'Albergue/Hostel - Total de Leitos 2013',\n",
       " 'Cama e Café -  Quantidade 2013',\n",
       " 'Cama e Café - Total de UHs 2013',\n",
       " 'Cama e Café - Total de Leitos 2013',\n",
       " 'Hotel - Quantidade 2014',\n",
       " 'Hotel - Total de UHs 2014',\n",
       " 'Hóteis - Total de Leitos 2014',\n",
       " 'Flat / Apart Hotel - Quantidade 2014',\n",
       " 'Flat / Apart Hotel - Total de UHs 2014',\n",
       " 'Flat / Apart Hotel - Total de Leitos 2014',\n",
       " 'Hotel Fazenda - Quantidade 2014',\n",
       " 'Hotel Fazenda - Total de UHs 2014',\n",
       " 'Hotel Fazenda - Total de Leitos 2014',\n",
       " 'Resort - Quantidade 2014',\n",
       " 'Resort - Total de UHs 2014',\n",
       " 'Resort - Total de Leitos 2014',\n",
       " 'Pousada -  Quantidade 2014',\n",
       " 'Pousada - Total de UHs 2014',\n",
       " 'Pousada - Total de Leitos 2014',\n",
       " 'Albergue/Hostel -  Quantidade 2014',\n",
       " 'Albergue/Hostel - Total de UHs 2014',\n",
       " 'Albergue/Hostel - Total de Leitos 2014',\n",
       " 'Cama e Café -  Quantidade 2014',\n",
       " 'Cama e Café - Total de UHs 2014',\n",
       " 'Cama e Café - Total de Leitos 2014',\n",
       " 'Hotel - Quantidade 2015',\n",
       " 'Hotel - Total de UHs 2015',\n",
       " 'Hóteis - Total de Leitos 2015',\n",
       " 'Flat / Apart Hotel - Quantidade 2015',\n",
       " 'Flat / Apart Hotel - Total de UHs 2015',\n",
       " 'Flat / Apart Hotel - Total de Leitos 2015',\n",
       " 'Hotel Fazenda - Quantidade 2015',\n",
       " 'Hotel Fazenda - Total de UHs 2015',\n",
       " 'Hotel Fazenda - Total de Leitos 2015',\n",
       " 'Resort - Quantidade 2015',\n",
       " 'Resort - Total de UHs 2015',\n",
       " 'Resort - Total de Leitos 2015',\n",
       " 'Pousada -  Quantidade 2015',\n",
       " 'Pousada - Total de UHs 2015',\n",
       " 'Pousada - Total de Leitos 2015',\n",
       " 'Albergue/Hostel -  Quantidade 2015',\n",
       " 'Albergue/Hostel - Total de UHs 2015',\n",
       " 'Albergue/Hostel - Total de Leitos 2015',\n",
       " 'Cama e Café -  Quantidade 2015',\n",
       " 'Cama e Café - Total de UHs 2015',\n",
       " 'Cama e Café - Total de Leitos 2015',\n",
       " 'Hotel - Quantidade 2016',\n",
       " 'Hotel - Total de UHs 2016',\n",
       " 'Hóteis - Total de Leitos 2016',\n",
       " 'Flat / Apart Hotel - Quantidade 2016',\n",
       " 'Flat / Apart Hotel - Total de UHs 2016',\n",
       " 'Flat / Apart Hotel - Total de Leitos 2016',\n",
       " 'Hotel Fazenda - Quantidade 2016',\n",
       " 'Hotel Fazenda - Total de UHs 2016',\n",
       " 'Hotel Fazenda - Total de Leitos 2016',\n",
       " 'Resort - Quantidade 2016',\n",
       " 'Resort - Total de UHs 2016',\n",
       " 'Resort - Total de Leitos 2016',\n",
       " 'Pousada -  Quantidade 2016',\n",
       " 'Pousada - Total de UHs 2016',\n",
       " 'Pousada - Total de Leitos 2016',\n",
       " 'Albergue/Hostel -  Quantidade 2016',\n",
       " 'Albergue/Hostel - Total de UHs 2016',\n",
       " 'Albergue/Hostel - Total de Leitos 2016',\n",
       " 'Cama e Café -  Quantidade 2016',\n",
       " 'Cama e Café - Total de UHs 2016',\n",
       " 'Cama e Café - Total de Leitos 2016',\n",
       " 'Hotel - Quantidade 2017',\n",
       " 'Hotel - Total de UHs 2017',\n",
       " 'Hotel - Total de Leitos 2017',\n",
       " 'Flat / Apart Hotel - Quantidade 2017',\n",
       " 'Flat / Apart Hotel - Total de UHs 2017',\n",
       " 'Flat / Apart Hotel - Total de Leitos 2017',\n",
       " 'Hotel Fazenda - Quantidade 2017',\n",
       " 'Hotel Fazenda - Total de UHs 2017',\n",
       " 'Hotel Fazenda - Total de Leitos 2017',\n",
       " 'Resort - Quantidade 2017',\n",
       " 'Resort - Total de UHs 2017',\n",
       " 'Resort - Total de Leitos 2017',\n",
       " 'Pousada -  Quantidade 2017',\n",
       " 'Pousada - Total de UHs 2017',\n",
       " 'Pousada - Total de Leitos 2017',\n",
       " 'Albergue/Hostel -  Quantidade 2017',\n",
       " 'Albergue/Hostel - Total de UHs 2017',\n",
       " 'Albergue/Hostel - Total de Leitos 2017',\n",
       " 'Cama e Café -  Quantidade 2017',\n",
       " 'Cama e Café - Total de UHs 2017',\n",
       " 'Cama e Café - Total de Leitos 2017',\n",
       " 'Hotel - Quantidade 2018',\n",
       " 'Hotel - Total de UHs 2018',\n",
       " 'Hotel - Total de Leitos 2018',\n",
       " 'Flat / Apart Hotel - Quantidade 2018',\n",
       " 'Flat / Apart Hotel - Total de UHs 2018',\n",
       " 'Flat / Apart Hotel - Total de Leitos 2018',\n",
       " 'Hotel Fazenda - Quantidade 2018',\n",
       " 'Hotel Fazenda - Total de UHs 2018',\n",
       " 'Hotel Fazenda - Total de Leitos 2018',\n",
       " 'Resort - Quantidade 2018',\n",
       " 'Resort - Total de UHs 2018',\n",
       " 'Resort - Total de Leitos 2018',\n",
       " 'Pousada -  Quantidade 2018',\n",
       " 'Pousada - Total de UHs 2018',\n",
       " 'Pousada - Total de Leitos 2018',\n",
       " 'Albergue/Hostel -  Quantidade 2018',\n",
       " 'Albergue/Hostel - Total de UHs 2018',\n",
       " 'Albergue/Hostel - Total de Leitos 2018',\n",
       " 'Cama e Café -  Quantidade 2018',\n",
       " 'Cama e Café - Total de UHs 2018',\n",
       " 'Cama e Café - Total de Leitos 2018',\n",
       " 'Hotel - Quantidade 2019',\n",
       " 'Hotel - Total de UHs 2019',\n",
       " 'Hotel - Total de Leitos 2019',\n",
       " 'Flat / Apart Hotel - Quantidade 2019',\n",
       " 'Flat / Apart Hotel - Total de UHs 2019',\n",
       " 'Flat / Apart Hotel - Total de Leitos 2019',\n",
       " 'Hotel Fazenda - Quantidade 2019',\n",
       " 'Hotel Fazenda - Total de UHs 2019',\n",
       " 'Hotel Fazenda - Total de Leitos 2019',\n",
       " 'Resort - Quantidade 2019',\n",
       " 'Resort - Total de UHs 2019',\n",
       " 'Resort - Total de Leitos 2019',\n",
       " 'Pousada -  Quantidade 2019',\n",
       " 'Pousada - Total de UHs 2019',\n",
       " 'Pousada - Total de Leitos 2019',\n",
       " 'Albergue/Hostel -  Quantidade 2019',\n",
       " 'Albergue/Hostel - Total de UHs 2019',\n",
       " 'Albergue/Hostel - Total de Leitos 2019',\n",
       " 'Cama e Café -  Quantidade 2019',\n",
       " 'Cama e Café - Total de UHs 2019',\n",
       " 'Cama e Café - Total de Leitos 2019',\n",
       " 'Hotel - Quantidade 2020',\n",
       " 'Hotel - Total de UHs 2020',\n",
       " 'Hotel - Total de Leitos 2020',\n",
       " 'Flat / Apart Hotel - Quantidade 2020',\n",
       " 'Flat / Apart Hotel - Total de UHs 2020',\n",
       " 'Flat / Apart Hotel - Total de Leitos 2020',\n",
       " 'Hotel Fazenda - Quantidade 2020',\n",
       " 'Hotel Fazenda - Total de UHs 2020',\n",
       " 'Hotel Fazenda - Total de Leitos 2020',\n",
       " 'Resort - Quantidade 2020',\n",
       " 'Resort - Total de UHs 2020',\n",
       " 'Resort - Total de Leitos 2020',\n",
       " 'Pousada -  Quantidade 2020',\n",
       " 'Pousada - Total de UHs 2020',\n",
       " 'Pousada - Total de Leitos 2020',\n",
       " 'Albergue/Hostel -  Quantidade 2020',\n",
       " 'Albergue/Hostel - Total de UHs 2020',\n",
       " 'Albergue/Hostel - Total de Leitos 2020',\n",
       " 'Cama e Café -  Quantidade 2020',\n",
       " 'Cama e Café - Total de UHs 2020',\n",
       " 'Cama e Café - Total de Leitos 2020',\n",
       " 'Hotel - Quantidade 2021',\n",
       " 'Hotel - Total de UHs 2021',\n",
       " 'Hotel - Total de Leitos 2021',\n",
       " 'Flat / Apart Hotel - Quantidade 2021',\n",
       " 'Flat / Apart Hotel - Total de UHs 2021',\n",
       " 'Flat / Apart Hotel - Total de Leitos 2021',\n",
       " 'Hotel Fazenda - Quantidade 2021',\n",
       " 'Hotel Fazenda - Total de UHs 2021',\n",
       " 'Hotel Fazenda - Total de Leitos 2021',\n",
       " 'Resort - Quantidade 2021',\n",
       " 'Resort - Total de UHs 2021',\n",
       " 'Resort - Total de Leitos 2021',\n",
       " 'Pousada -  Quantidade 2021',\n",
       " 'Pousada - Total de UHs 2021',\n",
       " 'Pousada - Total de Leitos 2021',\n",
       " 'Albergue/Hostel -  Quantidade 2021',\n",
       " 'Albergue/Hostel - Total de UHs 2021',\n",
       " 'Albergue/Hostel - Total de Leitos 2021',\n",
       " 'Cama e Café -  Quantidade 2021',\n",
       " 'Cama e Café - Total de UHs 2021',\n",
       " 'Cama e Café - Total de Leitos 2021',\n",
       " 'Hotel Histórico -  Quantidade 2021',\n",
       " 'Hotel Histórico - Total de UHs 2021',\n",
       " 'Hotel Histórico - Total de Leitos 2021',\n",
       " 'Outros -  Quantidade 2021',\n",
       " 'Outros - Total de UHs 2021',\n",
       " 'Outros - Total de Leitos 2021']"
      ]
     },
     "execution_count": 5,
     "metadata": {},
     "output_type": "execute_result"
    }
   ],
   "source": [
    "list(tabela)"
   ]
  },
  {
   "cell_type": "code",
   "execution_count": 6,
   "id": "c5b6abdb",
   "metadata": {},
   "outputs": [],
   "source": [
    "hotel = tabela[['Município','Hotel - Quantidade 2021','Hotel - Quantidade 2020','Hotel - Quantidade 2019', \n",
    "                     'Hotel - Quantidade 2018', 'Hotel - Quantidade 2017' ]] "
   ]
  },
  {
   "cell_type": "code",
   "execution_count": 7,
   "id": "f9c04968",
   "metadata": {},
   "outputs": [
    {
     "data": {
      "text/html": [
       "<div>\n",
       "<style scoped>\n",
       "    .dataframe tbody tr th:only-of-type {\n",
       "        vertical-align: middle;\n",
       "    }\n",
       "\n",
       "    .dataframe tbody tr th {\n",
       "        vertical-align: top;\n",
       "    }\n",
       "\n",
       "    .dataframe thead th {\n",
       "        text-align: right;\n",
       "    }\n",
       "</style>\n",
       "<table border=\"1\" class=\"dataframe\">\n",
       "  <thead>\n",
       "    <tr style=\"text-align: right;\">\n",
       "      <th></th>\n",
       "      <th>Município</th>\n",
       "      <th>Hotel - Quantidade 2021</th>\n",
       "      <th>Hotel - Quantidade 2020</th>\n",
       "      <th>Hotel - Quantidade 2019</th>\n",
       "      <th>Hotel - Quantidade 2018</th>\n",
       "      <th>Hotel - Quantidade 2017</th>\n",
       "    </tr>\n",
       "  </thead>\n",
       "  <tbody>\n",
       "    <tr>\n",
       "      <th>0</th>\n",
       "      <td>Água Branca</td>\n",
       "      <td>1</td>\n",
       "      <td>1</td>\n",
       "      <td>1</td>\n",
       "      <td>0</td>\n",
       "      <td>0</td>\n",
       "    </tr>\n",
       "    <tr>\n",
       "      <th>1</th>\n",
       "      <td>Anadia</td>\n",
       "      <td>0</td>\n",
       "      <td>0</td>\n",
       "      <td>0</td>\n",
       "      <td>0</td>\n",
       "      <td>0</td>\n",
       "    </tr>\n",
       "    <tr>\n",
       "      <th>2</th>\n",
       "      <td>Arapiraca</td>\n",
       "      <td>16</td>\n",
       "      <td>14</td>\n",
       "      <td>14</td>\n",
       "      <td>14</td>\n",
       "      <td>13</td>\n",
       "    </tr>\n",
       "    <tr>\n",
       "      <th>3</th>\n",
       "      <td>Atalaia</td>\n",
       "      <td>0</td>\n",
       "      <td>0</td>\n",
       "      <td>0</td>\n",
       "      <td>0</td>\n",
       "      <td>0</td>\n",
       "    </tr>\n",
       "    <tr>\n",
       "      <th>4</th>\n",
       "      <td>Barra de Santo Antônio</td>\n",
       "      <td>2</td>\n",
       "      <td>2</td>\n",
       "      <td>1</td>\n",
       "      <td>1</td>\n",
       "      <td>1</td>\n",
       "    </tr>\n",
       "    <tr>\n",
       "      <th>...</th>\n",
       "      <td>...</td>\n",
       "      <td>...</td>\n",
       "      <td>...</td>\n",
       "      <td>...</td>\n",
       "      <td>...</td>\n",
       "      <td>...</td>\n",
       "    </tr>\n",
       "    <tr>\n",
       "      <th>97</th>\n",
       "      <td>Taquarana</td>\n",
       "      <td>0</td>\n",
       "      <td>0</td>\n",
       "      <td>0</td>\n",
       "      <td>0</td>\n",
       "      <td>0</td>\n",
       "    </tr>\n",
       "    <tr>\n",
       "      <th>98</th>\n",
       "      <td>Teotônio Vilela</td>\n",
       "      <td>0</td>\n",
       "      <td>0</td>\n",
       "      <td>0</td>\n",
       "      <td>0</td>\n",
       "      <td>0</td>\n",
       "    </tr>\n",
       "    <tr>\n",
       "      <th>99</th>\n",
       "      <td>Traipu</td>\n",
       "      <td>0</td>\n",
       "      <td>0</td>\n",
       "      <td>0</td>\n",
       "      <td>0</td>\n",
       "      <td>0</td>\n",
       "    </tr>\n",
       "    <tr>\n",
       "      <th>100</th>\n",
       "      <td>União dos Palmares</td>\n",
       "      <td>1</td>\n",
       "      <td>2</td>\n",
       "      <td>2</td>\n",
       "      <td>2</td>\n",
       "      <td>1</td>\n",
       "    </tr>\n",
       "    <tr>\n",
       "      <th>101</th>\n",
       "      <td>Viçosa</td>\n",
       "      <td>1</td>\n",
       "      <td>1</td>\n",
       "      <td>1</td>\n",
       "      <td>0</td>\n",
       "      <td>0</td>\n",
       "    </tr>\n",
       "  </tbody>\n",
       "</table>\n",
       "<p>102 rows × 6 columns</p>\n",
       "</div>"
      ],
      "text/plain": [
       "                  Município  Hotel - Quantidade 2021  Hotel - Quantidade 2020  \\\n",
       "0               Água Branca                        1                        1   \n",
       "1                    Anadia                        0                        0   \n",
       "2                 Arapiraca                       16                       14   \n",
       "3                   Atalaia                        0                        0   \n",
       "4    Barra de Santo Antônio                        2                        2   \n",
       "..                      ...                      ...                      ...   \n",
       "97                Taquarana                        0                        0   \n",
       "98          Teotônio Vilela                        0                        0   \n",
       "99                   Traipu                        0                        0   \n",
       "100      União dos Palmares                        1                        2   \n",
       "101                  Viçosa                        1                        1   \n",
       "\n",
       "     Hotel - Quantidade 2019  Hotel - Quantidade 2018  Hotel - Quantidade 2017  \n",
       "0                          1                        0                        0  \n",
       "1                          0                        0                        0  \n",
       "2                         14                       14                       13  \n",
       "3                          0                        0                        0  \n",
       "4                          1                        1                        1  \n",
       "..                       ...                      ...                      ...  \n",
       "97                         0                        0                        0  \n",
       "98                         0                        0                        0  \n",
       "99                         0                        0                        0  \n",
       "100                        2                        2                        1  \n",
       "101                        1                        0                        0  \n",
       "\n",
       "[102 rows x 6 columns]"
      ]
     },
     "metadata": {},
     "output_type": "display_data"
    }
   ],
   "source": [
    "display(hotel)"
   ]
  },
  {
   "cell_type": "code",
   "execution_count": 8,
   "id": "5c86f458",
   "metadata": {},
   "outputs": [],
   "source": [
    "dados = hotel[hotel['Hotel - Quantidade 2021'] >= 5].sort_values(by ='Município')"
   ]
  },
  {
   "cell_type": "code",
   "execution_count": 9,
   "id": "ef5ca688",
   "metadata": {},
   "outputs": [
    {
     "data": {
      "text/html": [
       "<div>\n",
       "<style scoped>\n",
       "    .dataframe tbody tr th:only-of-type {\n",
       "        vertical-align: middle;\n",
       "    }\n",
       "\n",
       "    .dataframe tbody tr th {\n",
       "        vertical-align: top;\n",
       "    }\n",
       "\n",
       "    .dataframe thead th {\n",
       "        text-align: right;\n",
       "    }\n",
       "</style>\n",
       "<table border=\"1\" class=\"dataframe\">\n",
       "  <thead>\n",
       "    <tr style=\"text-align: right;\">\n",
       "      <th></th>\n",
       "      <th>Município</th>\n",
       "      <th>Hotel - Quantidade 2021</th>\n",
       "      <th>Hotel - Quantidade 2020</th>\n",
       "      <th>Hotel - Quantidade 2019</th>\n",
       "      <th>Hotel - Quantidade 2018</th>\n",
       "      <th>Hotel - Quantidade 2017</th>\n",
       "    </tr>\n",
       "  </thead>\n",
       "  <tbody>\n",
       "    <tr>\n",
       "      <th>2</th>\n",
       "      <td>Arapiraca</td>\n",
       "      <td>16</td>\n",
       "      <td>14</td>\n",
       "      <td>14</td>\n",
       "      <td>14</td>\n",
       "      <td>13</td>\n",
       "    </tr>\n",
       "    <tr>\n",
       "      <th>5</th>\n",
       "      <td>Barra de São Miguel</td>\n",
       "      <td>6</td>\n",
       "      <td>7</td>\n",
       "      <td>7</td>\n",
       "      <td>7</td>\n",
       "      <td>5</td>\n",
       "    </tr>\n",
       "    <tr>\n",
       "      <th>25</th>\n",
       "      <td>Delmiro Gouveia</td>\n",
       "      <td>5</td>\n",
       "      <td>6</td>\n",
       "      <td>6</td>\n",
       "      <td>4</td>\n",
       "      <td>4</td>\n",
       "    </tr>\n",
       "    <tr>\n",
       "      <th>46</th>\n",
       "      <td>Maceió</td>\n",
       "      <td>82</td>\n",
       "      <td>77</td>\n",
       "      <td>72</td>\n",
       "      <td>73</td>\n",
       "      <td>51</td>\n",
       "    </tr>\n",
       "    <tr>\n",
       "      <th>49</th>\n",
       "      <td>Maragogi</td>\n",
       "      <td>11</td>\n",
       "      <td>10</td>\n",
       "      <td>8</td>\n",
       "      <td>7</td>\n",
       "      <td>7</td>\n",
       "    </tr>\n",
       "    <tr>\n",
       "      <th>51</th>\n",
       "      <td>Marechal Deodoro</td>\n",
       "      <td>6</td>\n",
       "      <td>5</td>\n",
       "      <td>5</td>\n",
       "      <td>5</td>\n",
       "      <td>5</td>\n",
       "    </tr>\n",
       "    <tr>\n",
       "      <th>76</th>\n",
       "      <td>Piranhas</td>\n",
       "      <td>9</td>\n",
       "      <td>10</td>\n",
       "      <td>10</td>\n",
       "      <td>9</td>\n",
       "      <td>8</td>\n",
       "    </tr>\n",
       "  </tbody>\n",
       "</table>\n",
       "</div>"
      ],
      "text/plain": [
       "              Município  Hotel - Quantidade 2021  Hotel - Quantidade 2020  \\\n",
       "2             Arapiraca                       16                       14   \n",
       "5   Barra de São Miguel                        6                        7   \n",
       "25      Delmiro Gouveia                        5                        6   \n",
       "46               Maceió                       82                       77   \n",
       "49             Maragogi                       11                       10   \n",
       "51     Marechal Deodoro                        6                        5   \n",
       "76             Piranhas                        9                       10   \n",
       "\n",
       "    Hotel - Quantidade 2019  Hotel - Quantidade 2018  Hotel - Quantidade 2017  \n",
       "2                        14                       14                       13  \n",
       "5                         7                        7                        5  \n",
       "25                        6                        4                        4  \n",
       "46                       72                       73                       51  \n",
       "49                        8                        7                        7  \n",
       "51                        5                        5                        5  \n",
       "76                       10                        9                        8  "
      ]
     },
     "metadata": {},
     "output_type": "display_data"
    }
   ],
   "source": [
    "display(dados)"
   ]
  },
  {
   "cell_type": "code",
   "execution_count": 10,
   "id": "2edbf26f",
   "metadata": {},
   "outputs": [],
   "source": [
    "import plotly.express as px"
   ]
  },
  {
   "cell_type": "code",
   "execution_count": 14,
   "id": "a83ec3f3",
   "metadata": {},
   "outputs": [
    {
     "data": {
      "application/vnd.plotly.v1+json": {
       "config": {
        "plotlyServerURL": "https://plot.ly"
       },
       "data": [
        {
         "alignmentgroup": "True",
         "hovertemplate": "Município=%{x}<br>Hotel - Quantidade 2021=%{y}<extra></extra>",
         "legendgroup": "Arapiraca",
         "marker": {
          "color": "#636efa",
          "pattern": {
           "shape": ""
          }
         },
         "name": "Arapiraca",
         "offsetgroup": "Arapiraca",
         "orientation": "v",
         "showlegend": true,
         "textposition": "auto",
         "type": "bar",
         "x": [
          "Arapiraca"
         ],
         "xaxis": "x",
         "y": [
          16
         ],
         "yaxis": "y"
        },
        {
         "alignmentgroup": "True",
         "hovertemplate": "Município=%{x}<br>Hotel - Quantidade 2021=%{y}<extra></extra>",
         "legendgroup": "Barra de São Miguel",
         "marker": {
          "color": "#EF553B",
          "pattern": {
           "shape": ""
          }
         },
         "name": "Barra de São Miguel",
         "offsetgroup": "Barra de São Miguel",
         "orientation": "v",
         "showlegend": true,
         "textposition": "auto",
         "type": "bar",
         "x": [
          "Barra de São Miguel"
         ],
         "xaxis": "x",
         "y": [
          6
         ],
         "yaxis": "y"
        },
        {
         "alignmentgroup": "True",
         "hovertemplate": "Município=%{x}<br>Hotel - Quantidade 2021=%{y}<extra></extra>",
         "legendgroup": "Delmiro Gouveia",
         "marker": {
          "color": "#00cc96",
          "pattern": {
           "shape": ""
          }
         },
         "name": "Delmiro Gouveia",
         "offsetgroup": "Delmiro Gouveia",
         "orientation": "v",
         "showlegend": true,
         "textposition": "auto",
         "type": "bar",
         "x": [
          "Delmiro Gouveia"
         ],
         "xaxis": "x",
         "y": [
          5
         ],
         "yaxis": "y"
        },
        {
         "alignmentgroup": "True",
         "hovertemplate": "Município=%{x}<br>Hotel - Quantidade 2021=%{y}<extra></extra>",
         "legendgroup": "Maceió",
         "marker": {
          "color": "#ab63fa",
          "pattern": {
           "shape": ""
          }
         },
         "name": "Maceió",
         "offsetgroup": "Maceió",
         "orientation": "v",
         "showlegend": true,
         "textposition": "auto",
         "type": "bar",
         "x": [
          "Maceió"
         ],
         "xaxis": "x",
         "y": [
          82
         ],
         "yaxis": "y"
        },
        {
         "alignmentgroup": "True",
         "hovertemplate": "Município=%{x}<br>Hotel - Quantidade 2021=%{y}<extra></extra>",
         "legendgroup": "Maragogi",
         "marker": {
          "color": "#FFA15A",
          "pattern": {
           "shape": ""
          }
         },
         "name": "Maragogi",
         "offsetgroup": "Maragogi",
         "orientation": "v",
         "showlegend": true,
         "textposition": "auto",
         "type": "bar",
         "x": [
          "Maragogi"
         ],
         "xaxis": "x",
         "y": [
          11
         ],
         "yaxis": "y"
        },
        {
         "alignmentgroup": "True",
         "hovertemplate": "Município=%{x}<br>Hotel - Quantidade 2021=%{y}<extra></extra>",
         "legendgroup": "Marechal Deodoro",
         "marker": {
          "color": "#19d3f3",
          "pattern": {
           "shape": ""
          }
         },
         "name": "Marechal Deodoro",
         "offsetgroup": "Marechal Deodoro",
         "orientation": "v",
         "showlegend": true,
         "textposition": "auto",
         "type": "bar",
         "x": [
          "Marechal Deodoro"
         ],
         "xaxis": "x",
         "y": [
          6
         ],
         "yaxis": "y"
        },
        {
         "alignmentgroup": "True",
         "hovertemplate": "Município=%{x}<br>Hotel - Quantidade 2021=%{y}<extra></extra>",
         "legendgroup": "Piranhas",
         "marker": {
          "color": "#FF6692",
          "pattern": {
           "shape": ""
          }
         },
         "name": "Piranhas",
         "offsetgroup": "Piranhas",
         "orientation": "v",
         "showlegend": true,
         "textposition": "auto",
         "type": "bar",
         "x": [
          "Piranhas"
         ],
         "xaxis": "x",
         "y": [
          9
         ],
         "yaxis": "y"
        }
       ],
       "layout": {
        "barmode": "relative",
        "legend": {
         "title": {
          "text": "Município"
         },
         "tracegroupgap": 0
        },
        "margin": {
         "t": 60
        },
        "template": {
         "data": {
          "bar": [
           {
            "error_x": {
             "color": "#2a3f5f"
            },
            "error_y": {
             "color": "#2a3f5f"
            },
            "marker": {
             "line": {
              "color": "#E5ECF6",
              "width": 0.5
             },
             "pattern": {
              "fillmode": "overlay",
              "size": 10,
              "solidity": 0.2
             }
            },
            "type": "bar"
           }
          ],
          "barpolar": [
           {
            "marker": {
             "line": {
              "color": "#E5ECF6",
              "width": 0.5
             },
             "pattern": {
              "fillmode": "overlay",
              "size": 10,
              "solidity": 0.2
             }
            },
            "type": "barpolar"
           }
          ],
          "carpet": [
           {
            "aaxis": {
             "endlinecolor": "#2a3f5f",
             "gridcolor": "white",
             "linecolor": "white",
             "minorgridcolor": "white",
             "startlinecolor": "#2a3f5f"
            },
            "baxis": {
             "endlinecolor": "#2a3f5f",
             "gridcolor": "white",
             "linecolor": "white",
             "minorgridcolor": "white",
             "startlinecolor": "#2a3f5f"
            },
            "type": "carpet"
           }
          ],
          "choropleth": [
           {
            "colorbar": {
             "outlinewidth": 0,
             "ticks": ""
            },
            "type": "choropleth"
           }
          ],
          "contour": [
           {
            "colorbar": {
             "outlinewidth": 0,
             "ticks": ""
            },
            "colorscale": [
             [
              0,
              "#0d0887"
             ],
             [
              0.1111111111111111,
              "#46039f"
             ],
             [
              0.2222222222222222,
              "#7201a8"
             ],
             [
              0.3333333333333333,
              "#9c179e"
             ],
             [
              0.4444444444444444,
              "#bd3786"
             ],
             [
              0.5555555555555556,
              "#d8576b"
             ],
             [
              0.6666666666666666,
              "#ed7953"
             ],
             [
              0.7777777777777778,
              "#fb9f3a"
             ],
             [
              0.8888888888888888,
              "#fdca26"
             ],
             [
              1,
              "#f0f921"
             ]
            ],
            "type": "contour"
           }
          ],
          "contourcarpet": [
           {
            "colorbar": {
             "outlinewidth": 0,
             "ticks": ""
            },
            "type": "contourcarpet"
           }
          ],
          "heatmap": [
           {
            "colorbar": {
             "outlinewidth": 0,
             "ticks": ""
            },
            "colorscale": [
             [
              0,
              "#0d0887"
             ],
             [
              0.1111111111111111,
              "#46039f"
             ],
             [
              0.2222222222222222,
              "#7201a8"
             ],
             [
              0.3333333333333333,
              "#9c179e"
             ],
             [
              0.4444444444444444,
              "#bd3786"
             ],
             [
              0.5555555555555556,
              "#d8576b"
             ],
             [
              0.6666666666666666,
              "#ed7953"
             ],
             [
              0.7777777777777778,
              "#fb9f3a"
             ],
             [
              0.8888888888888888,
              "#fdca26"
             ],
             [
              1,
              "#f0f921"
             ]
            ],
            "type": "heatmap"
           }
          ],
          "heatmapgl": [
           {
            "colorbar": {
             "outlinewidth": 0,
             "ticks": ""
            },
            "colorscale": [
             [
              0,
              "#0d0887"
             ],
             [
              0.1111111111111111,
              "#46039f"
             ],
             [
              0.2222222222222222,
              "#7201a8"
             ],
             [
              0.3333333333333333,
              "#9c179e"
             ],
             [
              0.4444444444444444,
              "#bd3786"
             ],
             [
              0.5555555555555556,
              "#d8576b"
             ],
             [
              0.6666666666666666,
              "#ed7953"
             ],
             [
              0.7777777777777778,
              "#fb9f3a"
             ],
             [
              0.8888888888888888,
              "#fdca26"
             ],
             [
              1,
              "#f0f921"
             ]
            ],
            "type": "heatmapgl"
           }
          ],
          "histogram": [
           {
            "marker": {
             "pattern": {
              "fillmode": "overlay",
              "size": 10,
              "solidity": 0.2
             }
            },
            "type": "histogram"
           }
          ],
          "histogram2d": [
           {
            "colorbar": {
             "outlinewidth": 0,
             "ticks": ""
            },
            "colorscale": [
             [
              0,
              "#0d0887"
             ],
             [
              0.1111111111111111,
              "#46039f"
             ],
             [
              0.2222222222222222,
              "#7201a8"
             ],
             [
              0.3333333333333333,
              "#9c179e"
             ],
             [
              0.4444444444444444,
              "#bd3786"
             ],
             [
              0.5555555555555556,
              "#d8576b"
             ],
             [
              0.6666666666666666,
              "#ed7953"
             ],
             [
              0.7777777777777778,
              "#fb9f3a"
             ],
             [
              0.8888888888888888,
              "#fdca26"
             ],
             [
              1,
              "#f0f921"
             ]
            ],
            "type": "histogram2d"
           }
          ],
          "histogram2dcontour": [
           {
            "colorbar": {
             "outlinewidth": 0,
             "ticks": ""
            },
            "colorscale": [
             [
              0,
              "#0d0887"
             ],
             [
              0.1111111111111111,
              "#46039f"
             ],
             [
              0.2222222222222222,
              "#7201a8"
             ],
             [
              0.3333333333333333,
              "#9c179e"
             ],
             [
              0.4444444444444444,
              "#bd3786"
             ],
             [
              0.5555555555555556,
              "#d8576b"
             ],
             [
              0.6666666666666666,
              "#ed7953"
             ],
             [
              0.7777777777777778,
              "#fb9f3a"
             ],
             [
              0.8888888888888888,
              "#fdca26"
             ],
             [
              1,
              "#f0f921"
             ]
            ],
            "type": "histogram2dcontour"
           }
          ],
          "mesh3d": [
           {
            "colorbar": {
             "outlinewidth": 0,
             "ticks": ""
            },
            "type": "mesh3d"
           }
          ],
          "parcoords": [
           {
            "line": {
             "colorbar": {
              "outlinewidth": 0,
              "ticks": ""
             }
            },
            "type": "parcoords"
           }
          ],
          "pie": [
           {
            "automargin": true,
            "type": "pie"
           }
          ],
          "scatter": [
           {
            "marker": {
             "colorbar": {
              "outlinewidth": 0,
              "ticks": ""
             }
            },
            "type": "scatter"
           }
          ],
          "scatter3d": [
           {
            "line": {
             "colorbar": {
              "outlinewidth": 0,
              "ticks": ""
             }
            },
            "marker": {
             "colorbar": {
              "outlinewidth": 0,
              "ticks": ""
             }
            },
            "type": "scatter3d"
           }
          ],
          "scattercarpet": [
           {
            "marker": {
             "colorbar": {
              "outlinewidth": 0,
              "ticks": ""
             }
            },
            "type": "scattercarpet"
           }
          ],
          "scattergeo": [
           {
            "marker": {
             "colorbar": {
              "outlinewidth": 0,
              "ticks": ""
             }
            },
            "type": "scattergeo"
           }
          ],
          "scattergl": [
           {
            "marker": {
             "colorbar": {
              "outlinewidth": 0,
              "ticks": ""
             }
            },
            "type": "scattergl"
           }
          ],
          "scattermapbox": [
           {
            "marker": {
             "colorbar": {
              "outlinewidth": 0,
              "ticks": ""
             }
            },
            "type": "scattermapbox"
           }
          ],
          "scatterpolar": [
           {
            "marker": {
             "colorbar": {
              "outlinewidth": 0,
              "ticks": ""
             }
            },
            "type": "scatterpolar"
           }
          ],
          "scatterpolargl": [
           {
            "marker": {
             "colorbar": {
              "outlinewidth": 0,
              "ticks": ""
             }
            },
            "type": "scatterpolargl"
           }
          ],
          "scatterternary": [
           {
            "marker": {
             "colorbar": {
              "outlinewidth": 0,
              "ticks": ""
             }
            },
            "type": "scatterternary"
           }
          ],
          "surface": [
           {
            "colorbar": {
             "outlinewidth": 0,
             "ticks": ""
            },
            "colorscale": [
             [
              0,
              "#0d0887"
             ],
             [
              0.1111111111111111,
              "#46039f"
             ],
             [
              0.2222222222222222,
              "#7201a8"
             ],
             [
              0.3333333333333333,
              "#9c179e"
             ],
             [
              0.4444444444444444,
              "#bd3786"
             ],
             [
              0.5555555555555556,
              "#d8576b"
             ],
             [
              0.6666666666666666,
              "#ed7953"
             ],
             [
              0.7777777777777778,
              "#fb9f3a"
             ],
             [
              0.8888888888888888,
              "#fdca26"
             ],
             [
              1,
              "#f0f921"
             ]
            ],
            "type": "surface"
           }
          ],
          "table": [
           {
            "cells": {
             "fill": {
              "color": "#EBF0F8"
             },
             "line": {
              "color": "white"
             }
            },
            "header": {
             "fill": {
              "color": "#C8D4E3"
             },
             "line": {
              "color": "white"
             }
            },
            "type": "table"
           }
          ]
         },
         "layout": {
          "annotationdefaults": {
           "arrowcolor": "#2a3f5f",
           "arrowhead": 0,
           "arrowwidth": 1
          },
          "autotypenumbers": "strict",
          "coloraxis": {
           "colorbar": {
            "outlinewidth": 0,
            "ticks": ""
           }
          },
          "colorscale": {
           "diverging": [
            [
             0,
             "#8e0152"
            ],
            [
             0.1,
             "#c51b7d"
            ],
            [
             0.2,
             "#de77ae"
            ],
            [
             0.3,
             "#f1b6da"
            ],
            [
             0.4,
             "#fde0ef"
            ],
            [
             0.5,
             "#f7f7f7"
            ],
            [
             0.6,
             "#e6f5d0"
            ],
            [
             0.7,
             "#b8e186"
            ],
            [
             0.8,
             "#7fbc41"
            ],
            [
             0.9,
             "#4d9221"
            ],
            [
             1,
             "#276419"
            ]
           ],
           "sequential": [
            [
             0,
             "#0d0887"
            ],
            [
             0.1111111111111111,
             "#46039f"
            ],
            [
             0.2222222222222222,
             "#7201a8"
            ],
            [
             0.3333333333333333,
             "#9c179e"
            ],
            [
             0.4444444444444444,
             "#bd3786"
            ],
            [
             0.5555555555555556,
             "#d8576b"
            ],
            [
             0.6666666666666666,
             "#ed7953"
            ],
            [
             0.7777777777777778,
             "#fb9f3a"
            ],
            [
             0.8888888888888888,
             "#fdca26"
            ],
            [
             1,
             "#f0f921"
            ]
           ],
           "sequentialminus": [
            [
             0,
             "#0d0887"
            ],
            [
             0.1111111111111111,
             "#46039f"
            ],
            [
             0.2222222222222222,
             "#7201a8"
            ],
            [
             0.3333333333333333,
             "#9c179e"
            ],
            [
             0.4444444444444444,
             "#bd3786"
            ],
            [
             0.5555555555555556,
             "#d8576b"
            ],
            [
             0.6666666666666666,
             "#ed7953"
            ],
            [
             0.7777777777777778,
             "#fb9f3a"
            ],
            [
             0.8888888888888888,
             "#fdca26"
            ],
            [
             1,
             "#f0f921"
            ]
           ]
          },
          "colorway": [
           "#636efa",
           "#EF553B",
           "#00cc96",
           "#ab63fa",
           "#FFA15A",
           "#19d3f3",
           "#FF6692",
           "#B6E880",
           "#FF97FF",
           "#FECB52"
          ],
          "font": {
           "color": "#2a3f5f"
          },
          "geo": {
           "bgcolor": "white",
           "lakecolor": "white",
           "landcolor": "#E5ECF6",
           "showlakes": true,
           "showland": true,
           "subunitcolor": "white"
          },
          "hoverlabel": {
           "align": "left"
          },
          "hovermode": "closest",
          "mapbox": {
           "style": "light"
          },
          "paper_bgcolor": "white",
          "plot_bgcolor": "#E5ECF6",
          "polar": {
           "angularaxis": {
            "gridcolor": "white",
            "linecolor": "white",
            "ticks": ""
           },
           "bgcolor": "#E5ECF6",
           "radialaxis": {
            "gridcolor": "white",
            "linecolor": "white",
            "ticks": ""
           }
          },
          "scene": {
           "xaxis": {
            "backgroundcolor": "#E5ECF6",
            "gridcolor": "white",
            "gridwidth": 2,
            "linecolor": "white",
            "showbackground": true,
            "ticks": "",
            "zerolinecolor": "white"
           },
           "yaxis": {
            "backgroundcolor": "#E5ECF6",
            "gridcolor": "white",
            "gridwidth": 2,
            "linecolor": "white",
            "showbackground": true,
            "ticks": "",
            "zerolinecolor": "white"
           },
           "zaxis": {
            "backgroundcolor": "#E5ECF6",
            "gridcolor": "white",
            "gridwidth": 2,
            "linecolor": "white",
            "showbackground": true,
            "ticks": "",
            "zerolinecolor": "white"
           }
          },
          "shapedefaults": {
           "line": {
            "color": "#2a3f5f"
           }
          },
          "ternary": {
           "aaxis": {
            "gridcolor": "white",
            "linecolor": "white",
            "ticks": ""
           },
           "baxis": {
            "gridcolor": "white",
            "linecolor": "white",
            "ticks": ""
           },
           "bgcolor": "#E5ECF6",
           "caxis": {
            "gridcolor": "white",
            "linecolor": "white",
            "ticks": ""
           }
          },
          "title": {
           "x": 0.05
          },
          "xaxis": {
           "automargin": true,
           "gridcolor": "white",
           "linecolor": "white",
           "ticks": "",
           "title": {
            "standoff": 15
           },
           "zerolinecolor": "white",
           "zerolinewidth": 2
          },
          "yaxis": {
           "automargin": true,
           "gridcolor": "white",
           "linecolor": "white",
           "ticks": "",
           "title": {
            "standoff": 15
           },
           "zerolinecolor": "white",
           "zerolinewidth": 2
          }
         }
        },
        "xaxis": {
         "anchor": "y",
         "categoryarray": [
          "Arapiraca",
          "Barra de São Miguel",
          "Delmiro Gouveia",
          "Maceió",
          "Maragogi",
          "Marechal Deodoro",
          "Piranhas"
         ],
         "categoryorder": "array",
         "domain": [
          0,
          1
         ],
         "title": {
          "text": "Município"
         }
        },
        "yaxis": {
         "anchor": "x",
         "domain": [
          0,
          1
         ],
         "title": {
          "text": "Hotel - Quantidade 2021"
         }
        }
       }
      },
      "text/html": [
       "<div>                            <div id=\"2bd16deb-7f1b-40a5-bdad-992a27d83183\" class=\"plotly-graph-div\" style=\"height:525px; width:100%;\"></div>            <script type=\"text/javascript\">                require([\"plotly\"], function(Plotly) {                    window.PLOTLYENV=window.PLOTLYENV || {};                                    if (document.getElementById(\"2bd16deb-7f1b-40a5-bdad-992a27d83183\")) {                    Plotly.newPlot(                        \"2bd16deb-7f1b-40a5-bdad-992a27d83183\",                        [{\"alignmentgroup\":\"True\",\"hovertemplate\":\"Munic\\u00edpio=%{x}<br>Hotel - Quantidade 2021=%{y}<extra></extra>\",\"legendgroup\":\"Arapiraca\",\"marker\":{\"color\":\"#636efa\",\"pattern\":{\"shape\":\"\"}},\"name\":\"Arapiraca\",\"offsetgroup\":\"Arapiraca\",\"orientation\":\"v\",\"showlegend\":true,\"textposition\":\"auto\",\"type\":\"bar\",\"x\":[\"Arapiraca\"],\"xaxis\":\"x\",\"y\":[16],\"yaxis\":\"y\"},{\"alignmentgroup\":\"True\",\"hovertemplate\":\"Munic\\u00edpio=%{x}<br>Hotel - Quantidade 2021=%{y}<extra></extra>\",\"legendgroup\":\"Barra de S\\u00e3o Miguel\",\"marker\":{\"color\":\"#EF553B\",\"pattern\":{\"shape\":\"\"}},\"name\":\"Barra de S\\u00e3o Miguel\",\"offsetgroup\":\"Barra de S\\u00e3o Miguel\",\"orientation\":\"v\",\"showlegend\":true,\"textposition\":\"auto\",\"type\":\"bar\",\"x\":[\"Barra de S\\u00e3o Miguel\"],\"xaxis\":\"x\",\"y\":[6],\"yaxis\":\"y\"},{\"alignmentgroup\":\"True\",\"hovertemplate\":\"Munic\\u00edpio=%{x}<br>Hotel - Quantidade 2021=%{y}<extra></extra>\",\"legendgroup\":\"Delmiro Gouveia\",\"marker\":{\"color\":\"#00cc96\",\"pattern\":{\"shape\":\"\"}},\"name\":\"Delmiro Gouveia\",\"offsetgroup\":\"Delmiro Gouveia\",\"orientation\":\"v\",\"showlegend\":true,\"textposition\":\"auto\",\"type\":\"bar\",\"x\":[\"Delmiro Gouveia\"],\"xaxis\":\"x\",\"y\":[5],\"yaxis\":\"y\"},{\"alignmentgroup\":\"True\",\"hovertemplate\":\"Munic\\u00edpio=%{x}<br>Hotel - Quantidade 2021=%{y}<extra></extra>\",\"legendgroup\":\"Macei\\u00f3\",\"marker\":{\"color\":\"#ab63fa\",\"pattern\":{\"shape\":\"\"}},\"name\":\"Macei\\u00f3\",\"offsetgroup\":\"Macei\\u00f3\",\"orientation\":\"v\",\"showlegend\":true,\"textposition\":\"auto\",\"type\":\"bar\",\"x\":[\"Macei\\u00f3\"],\"xaxis\":\"x\",\"y\":[82],\"yaxis\":\"y\"},{\"alignmentgroup\":\"True\",\"hovertemplate\":\"Munic\\u00edpio=%{x}<br>Hotel - Quantidade 2021=%{y}<extra></extra>\",\"legendgroup\":\"Maragogi\",\"marker\":{\"color\":\"#FFA15A\",\"pattern\":{\"shape\":\"\"}},\"name\":\"Maragogi\",\"offsetgroup\":\"Maragogi\",\"orientation\":\"v\",\"showlegend\":true,\"textposition\":\"auto\",\"type\":\"bar\",\"x\":[\"Maragogi\"],\"xaxis\":\"x\",\"y\":[11],\"yaxis\":\"y\"},{\"alignmentgroup\":\"True\",\"hovertemplate\":\"Munic\\u00edpio=%{x}<br>Hotel - Quantidade 2021=%{y}<extra></extra>\",\"legendgroup\":\"Marechal Deodoro\",\"marker\":{\"color\":\"#19d3f3\",\"pattern\":{\"shape\":\"\"}},\"name\":\"Marechal Deodoro\",\"offsetgroup\":\"Marechal Deodoro\",\"orientation\":\"v\",\"showlegend\":true,\"textposition\":\"auto\",\"type\":\"bar\",\"x\":[\"Marechal Deodoro\"],\"xaxis\":\"x\",\"y\":[6],\"yaxis\":\"y\"},{\"alignmentgroup\":\"True\",\"hovertemplate\":\"Munic\\u00edpio=%{x}<br>Hotel - Quantidade 2021=%{y}<extra></extra>\",\"legendgroup\":\"Piranhas\",\"marker\":{\"color\":\"#FF6692\",\"pattern\":{\"shape\":\"\"}},\"name\":\"Piranhas\",\"offsetgroup\":\"Piranhas\",\"orientation\":\"v\",\"showlegend\":true,\"textposition\":\"auto\",\"type\":\"bar\",\"x\":[\"Piranhas\"],\"xaxis\":\"x\",\"y\":[9],\"yaxis\":\"y\"}],                        {\"barmode\":\"relative\",\"legend\":{\"title\":{\"text\":\"Munic\\u00edpio\"},\"tracegroupgap\":0},\"margin\":{\"t\":60},\"template\":{\"data\":{\"bar\":[{\"error_x\":{\"color\":\"#2a3f5f\"},\"error_y\":{\"color\":\"#2a3f5f\"},\"marker\":{\"line\":{\"color\":\"#E5ECF6\",\"width\":0.5},\"pattern\":{\"fillmode\":\"overlay\",\"size\":10,\"solidity\":0.2}},\"type\":\"bar\"}],\"barpolar\":[{\"marker\":{\"line\":{\"color\":\"#E5ECF6\",\"width\":0.5},\"pattern\":{\"fillmode\":\"overlay\",\"size\":10,\"solidity\":0.2}},\"type\":\"barpolar\"}],\"carpet\":[{\"aaxis\":{\"endlinecolor\":\"#2a3f5f\",\"gridcolor\":\"white\",\"linecolor\":\"white\",\"minorgridcolor\":\"white\",\"startlinecolor\":\"#2a3f5f\"},\"baxis\":{\"endlinecolor\":\"#2a3f5f\",\"gridcolor\":\"white\",\"linecolor\":\"white\",\"minorgridcolor\":\"white\",\"startlinecolor\":\"#2a3f5f\"},\"type\":\"carpet\"}],\"choropleth\":[{\"colorbar\":{\"outlinewidth\":0,\"ticks\":\"\"},\"type\":\"choropleth\"}],\"contour\":[{\"colorbar\":{\"outlinewidth\":0,\"ticks\":\"\"},\"colorscale\":[[0.0,\"#0d0887\"],[0.1111111111111111,\"#46039f\"],[0.2222222222222222,\"#7201a8\"],[0.3333333333333333,\"#9c179e\"],[0.4444444444444444,\"#bd3786\"],[0.5555555555555556,\"#d8576b\"],[0.6666666666666666,\"#ed7953\"],[0.7777777777777778,\"#fb9f3a\"],[0.8888888888888888,\"#fdca26\"],[1.0,\"#f0f921\"]],\"type\":\"contour\"}],\"contourcarpet\":[{\"colorbar\":{\"outlinewidth\":0,\"ticks\":\"\"},\"type\":\"contourcarpet\"}],\"heatmap\":[{\"colorbar\":{\"outlinewidth\":0,\"ticks\":\"\"},\"colorscale\":[[0.0,\"#0d0887\"],[0.1111111111111111,\"#46039f\"],[0.2222222222222222,\"#7201a8\"],[0.3333333333333333,\"#9c179e\"],[0.4444444444444444,\"#bd3786\"],[0.5555555555555556,\"#d8576b\"],[0.6666666666666666,\"#ed7953\"],[0.7777777777777778,\"#fb9f3a\"],[0.8888888888888888,\"#fdca26\"],[1.0,\"#f0f921\"]],\"type\":\"heatmap\"}],\"heatmapgl\":[{\"colorbar\":{\"outlinewidth\":0,\"ticks\":\"\"},\"colorscale\":[[0.0,\"#0d0887\"],[0.1111111111111111,\"#46039f\"],[0.2222222222222222,\"#7201a8\"],[0.3333333333333333,\"#9c179e\"],[0.4444444444444444,\"#bd3786\"],[0.5555555555555556,\"#d8576b\"],[0.6666666666666666,\"#ed7953\"],[0.7777777777777778,\"#fb9f3a\"],[0.8888888888888888,\"#fdca26\"],[1.0,\"#f0f921\"]],\"type\":\"heatmapgl\"}],\"histogram\":[{\"marker\":{\"pattern\":{\"fillmode\":\"overlay\",\"size\":10,\"solidity\":0.2}},\"type\":\"histogram\"}],\"histogram2d\":[{\"colorbar\":{\"outlinewidth\":0,\"ticks\":\"\"},\"colorscale\":[[0.0,\"#0d0887\"],[0.1111111111111111,\"#46039f\"],[0.2222222222222222,\"#7201a8\"],[0.3333333333333333,\"#9c179e\"],[0.4444444444444444,\"#bd3786\"],[0.5555555555555556,\"#d8576b\"],[0.6666666666666666,\"#ed7953\"],[0.7777777777777778,\"#fb9f3a\"],[0.8888888888888888,\"#fdca26\"],[1.0,\"#f0f921\"]],\"type\":\"histogram2d\"}],\"histogram2dcontour\":[{\"colorbar\":{\"outlinewidth\":0,\"ticks\":\"\"},\"colorscale\":[[0.0,\"#0d0887\"],[0.1111111111111111,\"#46039f\"],[0.2222222222222222,\"#7201a8\"],[0.3333333333333333,\"#9c179e\"],[0.4444444444444444,\"#bd3786\"],[0.5555555555555556,\"#d8576b\"],[0.6666666666666666,\"#ed7953\"],[0.7777777777777778,\"#fb9f3a\"],[0.8888888888888888,\"#fdca26\"],[1.0,\"#f0f921\"]],\"type\":\"histogram2dcontour\"}],\"mesh3d\":[{\"colorbar\":{\"outlinewidth\":0,\"ticks\":\"\"},\"type\":\"mesh3d\"}],\"parcoords\":[{\"line\":{\"colorbar\":{\"outlinewidth\":0,\"ticks\":\"\"}},\"type\":\"parcoords\"}],\"pie\":[{\"automargin\":true,\"type\":\"pie\"}],\"scatter\":[{\"marker\":{\"colorbar\":{\"outlinewidth\":0,\"ticks\":\"\"}},\"type\":\"scatter\"}],\"scatter3d\":[{\"line\":{\"colorbar\":{\"outlinewidth\":0,\"ticks\":\"\"}},\"marker\":{\"colorbar\":{\"outlinewidth\":0,\"ticks\":\"\"}},\"type\":\"scatter3d\"}],\"scattercarpet\":[{\"marker\":{\"colorbar\":{\"outlinewidth\":0,\"ticks\":\"\"}},\"type\":\"scattercarpet\"}],\"scattergeo\":[{\"marker\":{\"colorbar\":{\"outlinewidth\":0,\"ticks\":\"\"}},\"type\":\"scattergeo\"}],\"scattergl\":[{\"marker\":{\"colorbar\":{\"outlinewidth\":0,\"ticks\":\"\"}},\"type\":\"scattergl\"}],\"scattermapbox\":[{\"marker\":{\"colorbar\":{\"outlinewidth\":0,\"ticks\":\"\"}},\"type\":\"scattermapbox\"}],\"scatterpolar\":[{\"marker\":{\"colorbar\":{\"outlinewidth\":0,\"ticks\":\"\"}},\"type\":\"scatterpolar\"}],\"scatterpolargl\":[{\"marker\":{\"colorbar\":{\"outlinewidth\":0,\"ticks\":\"\"}},\"type\":\"scatterpolargl\"}],\"scatterternary\":[{\"marker\":{\"colorbar\":{\"outlinewidth\":0,\"ticks\":\"\"}},\"type\":\"scatterternary\"}],\"surface\":[{\"colorbar\":{\"outlinewidth\":0,\"ticks\":\"\"},\"colorscale\":[[0.0,\"#0d0887\"],[0.1111111111111111,\"#46039f\"],[0.2222222222222222,\"#7201a8\"],[0.3333333333333333,\"#9c179e\"],[0.4444444444444444,\"#bd3786\"],[0.5555555555555556,\"#d8576b\"],[0.6666666666666666,\"#ed7953\"],[0.7777777777777778,\"#fb9f3a\"],[0.8888888888888888,\"#fdca26\"],[1.0,\"#f0f921\"]],\"type\":\"surface\"}],\"table\":[{\"cells\":{\"fill\":{\"color\":\"#EBF0F8\"},\"line\":{\"color\":\"white\"}},\"header\":{\"fill\":{\"color\":\"#C8D4E3\"},\"line\":{\"color\":\"white\"}},\"type\":\"table\"}]},\"layout\":{\"annotationdefaults\":{\"arrowcolor\":\"#2a3f5f\",\"arrowhead\":0,\"arrowwidth\":1},\"autotypenumbers\":\"strict\",\"coloraxis\":{\"colorbar\":{\"outlinewidth\":0,\"ticks\":\"\"}},\"colorscale\":{\"diverging\":[[0,\"#8e0152\"],[0.1,\"#c51b7d\"],[0.2,\"#de77ae\"],[0.3,\"#f1b6da\"],[0.4,\"#fde0ef\"],[0.5,\"#f7f7f7\"],[0.6,\"#e6f5d0\"],[0.7,\"#b8e186\"],[0.8,\"#7fbc41\"],[0.9,\"#4d9221\"],[1,\"#276419\"]],\"sequential\":[[0.0,\"#0d0887\"],[0.1111111111111111,\"#46039f\"],[0.2222222222222222,\"#7201a8\"],[0.3333333333333333,\"#9c179e\"],[0.4444444444444444,\"#bd3786\"],[0.5555555555555556,\"#d8576b\"],[0.6666666666666666,\"#ed7953\"],[0.7777777777777778,\"#fb9f3a\"],[0.8888888888888888,\"#fdca26\"],[1.0,\"#f0f921\"]],\"sequentialminus\":[[0.0,\"#0d0887\"],[0.1111111111111111,\"#46039f\"],[0.2222222222222222,\"#7201a8\"],[0.3333333333333333,\"#9c179e\"],[0.4444444444444444,\"#bd3786\"],[0.5555555555555556,\"#d8576b\"],[0.6666666666666666,\"#ed7953\"],[0.7777777777777778,\"#fb9f3a\"],[0.8888888888888888,\"#fdca26\"],[1.0,\"#f0f921\"]]},\"colorway\":[\"#636efa\",\"#EF553B\",\"#00cc96\",\"#ab63fa\",\"#FFA15A\",\"#19d3f3\",\"#FF6692\",\"#B6E880\",\"#FF97FF\",\"#FECB52\"],\"font\":{\"color\":\"#2a3f5f\"},\"geo\":{\"bgcolor\":\"white\",\"lakecolor\":\"white\",\"landcolor\":\"#E5ECF6\",\"showlakes\":true,\"showland\":true,\"subunitcolor\":\"white\"},\"hoverlabel\":{\"align\":\"left\"},\"hovermode\":\"closest\",\"mapbox\":{\"style\":\"light\"},\"paper_bgcolor\":\"white\",\"plot_bgcolor\":\"#E5ECF6\",\"polar\":{\"angularaxis\":{\"gridcolor\":\"white\",\"linecolor\":\"white\",\"ticks\":\"\"},\"bgcolor\":\"#E5ECF6\",\"radialaxis\":{\"gridcolor\":\"white\",\"linecolor\":\"white\",\"ticks\":\"\"}},\"scene\":{\"xaxis\":{\"backgroundcolor\":\"#E5ECF6\",\"gridcolor\":\"white\",\"gridwidth\":2,\"linecolor\":\"white\",\"showbackground\":true,\"ticks\":\"\",\"zerolinecolor\":\"white\"},\"yaxis\":{\"backgroundcolor\":\"#E5ECF6\",\"gridcolor\":\"white\",\"gridwidth\":2,\"linecolor\":\"white\",\"showbackground\":true,\"ticks\":\"\",\"zerolinecolor\":\"white\"},\"zaxis\":{\"backgroundcolor\":\"#E5ECF6\",\"gridcolor\":\"white\",\"gridwidth\":2,\"linecolor\":\"white\",\"showbackground\":true,\"ticks\":\"\",\"zerolinecolor\":\"white\"}},\"shapedefaults\":{\"line\":{\"color\":\"#2a3f5f\"}},\"ternary\":{\"aaxis\":{\"gridcolor\":\"white\",\"linecolor\":\"white\",\"ticks\":\"\"},\"baxis\":{\"gridcolor\":\"white\",\"linecolor\":\"white\",\"ticks\":\"\"},\"bgcolor\":\"#E5ECF6\",\"caxis\":{\"gridcolor\":\"white\",\"linecolor\":\"white\",\"ticks\":\"\"}},\"title\":{\"x\":0.05},\"xaxis\":{\"automargin\":true,\"gridcolor\":\"white\",\"linecolor\":\"white\",\"ticks\":\"\",\"title\":{\"standoff\":15},\"zerolinecolor\":\"white\",\"zerolinewidth\":2},\"yaxis\":{\"automargin\":true,\"gridcolor\":\"white\",\"linecolor\":\"white\",\"ticks\":\"\",\"title\":{\"standoff\":15},\"zerolinecolor\":\"white\",\"zerolinewidth\":2}}},\"xaxis\":{\"anchor\":\"y\",\"categoryarray\":[\"Arapiraca\",\"Barra de S\\u00e3o Miguel\",\"Delmiro Gouveia\",\"Macei\\u00f3\",\"Maragogi\",\"Marechal Deodoro\",\"Piranhas\"],\"categoryorder\":\"array\",\"domain\":[0.0,1.0],\"title\":{\"text\":\"Munic\\u00edpio\"}},\"yaxis\":{\"anchor\":\"x\",\"domain\":[0.0,1.0],\"title\":{\"text\":\"Hotel - Quantidade 2021\"}}},                        {\"responsive\": true}                    ).then(function(){\n",
       "                            \n",
       "var gd = document.getElementById('2bd16deb-7f1b-40a5-bdad-992a27d83183');\n",
       "var x = new MutationObserver(function (mutations, observer) {{\n",
       "        var display = window.getComputedStyle(gd).display;\n",
       "        if (!display || display === 'none') {{\n",
       "            console.log([gd, 'removed!']);\n",
       "            Plotly.purge(gd);\n",
       "            observer.disconnect();\n",
       "        }}\n",
       "}});\n",
       "\n",
       "// Listen for the removal of the full notebook cells\n",
       "var notebookContainer = gd.closest('#notebook-container');\n",
       "if (notebookContainer) {{\n",
       "    x.observe(notebookContainer, {childList: true});\n",
       "}}\n",
       "\n",
       "// Listen for the clearing of the current output cell\n",
       "var outputEl = gd.closest('.output');\n",
       "if (outputEl) {{\n",
       "    x.observe(outputEl, {childList: true});\n",
       "}}\n",
       "\n",
       "                        })                };                });            </script>        </div>"
      ]
     },
     "metadata": {},
     "output_type": "display_data"
    }
   ],
   "source": [
    "px.bar(dados, x='Município', y= 'Hotel - Quantidade 2021', color = \"Município\")"
   ]
  },
  {
   "cell_type": "code",
   "execution_count": null,
   "id": "0fe11175",
   "metadata": {},
   "outputs": [],
   "source": []
  }
 ],
 "metadata": {
  "kernelspec": {
   "display_name": "Python 3",
   "language": "python",
   "name": "python3"
  },
  "language_info": {
   "codemirror_mode": {
    "name": "ipython",
    "version": 3
   },
   "file_extension": ".py",
   "mimetype": "text/x-python",
   "name": "python",
   "nbconvert_exporter": "python",
   "pygments_lexer": "ipython3",
   "version": "3.8.8"
  }
 },
 "nbformat": 4,
 "nbformat_minor": 5
}
